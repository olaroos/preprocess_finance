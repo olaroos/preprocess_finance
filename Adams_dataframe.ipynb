{
 "cells": [
  {
   "cell_type": "code",
   "execution_count": 16,
   "metadata": {},
   "outputs": [],
   "source": [
    "import pprint\n",
    "import pandas as pd\n",
    "import os \n",
    "import numpy as np\n",
    "import torch\n",
    "import copy\n",
    "import random\n",
    "from src.fun import split_data, batch_generator, get_data_as_df, df_to_src_tgt\n"
   ]
  },
  {
   "cell_type": "code",
   "execution_count": 8,
   "metadata": {},
   "outputs": [],
   "source": [
    "df = get_data_as_df(excel_fname='Euro.xls')"
   ]
  },
  {
   "cell_type": "code",
   "execution_count": 9,
   "metadata": {},
   "outputs": [],
   "source": [
    "sequence_length = len(df.index)"
   ]
  },
  {
   "cell_type": "code",
   "execution_count": 10,
   "metadata": {},
   "outputs": [],
   "source": [
    "config = {'sequence_length': sequence_length,\n",
    "          'forbidden_keys': ['date','up'],\n",
    "          'tgt_key': 'rule_closeup'}"
   ]
  },
  {
   "cell_type": "code",
   "execution_count": 11,
   "metadata": {},
   "outputs": [],
   "source": [
    "src_data_numpy, tgt_data_numpy, src_keys, tgt_keys, src_pos_dict = df_to_src_tgt(config=config, df=df)"
   ]
  },
  {
   "cell_type": "code",
   "execution_count": 13,
   "metadata": {},
   "outputs": [
    {
     "name": "stdout",
     "output_type": "stream",
     "text": [
      "src_data_numpy.shape: (1232, 22)\n",
      "tgt_data_numpy.shape: (1232, 1)\n"
     ]
    }
   ],
   "source": [
    "print(\"src_data_numpy.shape: {}\".format(src_data_numpy.shape))\n",
    "print(\"tgt_data_numpy.shape: {}\".format(tgt_data_numpy.shape))"
   ]
  },
  {
   "cell_type": "code",
   "execution_count": 22,
   "metadata": {},
   "outputs": [
    {
     "name": "stdout",
     "output_type": "stream",
     "text": [
      "(hopefully) indexes for src_data_numpy in correct order:\n",
      "\n",
      "{0: 'short_term_difference',\n",
      " 1: 'medium_term_difference',\n",
      " 2: 'long_term_difference',\n",
      " 3: 'open_price',\n",
      " 4: 'high_price',\n",
      " 5: 'low_price',\n",
      " 6: 'close_price',\n",
      " 7: 'predicted_high_price',\n",
      " 8: 'predicted_low_price',\n",
      " 9: 'volume',\n",
      " 10: 'neural_index',\n",
      " 11: 'short_term_crossover_short_trend_pma',\n",
      " 12: 'short_term_crossover_short_trend_ama',\n",
      " 13: 'short_term_crossover_pma_roc%',\n",
      " 14: 'short_term_crossover_ama_roc%',\n",
      " 15: 'medium_term_crossover_medium_pma',\n",
      " 16: 'medium_term_crossover_medium_ama',\n",
      " 17: 'long_term_crossover_long_pma',\n",
      " 18: 'long_term_crossover_long_ama',\n",
      " 19: 'triple_cross_short',\n",
      " 20: 'triple_cross_medium',\n",
      " 21: 'triple_cross_long'}\n"
     ]
    }
   ],
   "source": [
    "print(\"src_data_numpy column names with indexes (hopefully) indexes for  in correct order:\\n\")\n",
    "pprint.pprint({i: key for i, key in enumerate(src_keys)})"
   ]
  },
  {
   "cell_type": "code",
   "execution_count": 23,
   "metadata": {},
   "outputs": [
    {
     "name": "stdout",
     "output_type": "stream",
     "text": [
      "tgt_data_numpy index:\n",
      "\n",
      "{0: 'rule_closeup'}\n"
     ]
    }
   ],
   "source": [
    "print(\"tgt_data_numpy index:\\n\")\n",
    "pprint.pprint({i: key for i, key in enumerate(tgt_keys)})"
   ]
  },
  {
   "cell_type": "code",
   "execution_count": null,
   "metadata": {},
   "outputs": [],
   "source": []
  }
 ],
 "metadata": {
  "kernelspec": {
   "display_name": "Python 3",
   "language": "python",
   "name": "python3"
  },
  "language_info": {
   "codemirror_mode": {
    "name": "ipython",
    "version": 3
   },
   "file_extension": ".py",
   "mimetype": "text/x-python",
   "name": "python",
   "nbconvert_exporter": "python",
   "pygments_lexer": "ipython3",
   "version": "3.8.2"
  }
 },
 "nbformat": 4,
 "nbformat_minor": 4
}
