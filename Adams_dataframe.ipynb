{
 "cells": [
  {
   "cell_type": "code",
   "execution_count": 7,
   "metadata": {},
   "outputs": [],
   "source": [
    "import pandas as pd\n",
    "import os \n",
    "import numpy as np\n",
    "import torch\n",
    "import copy\n",
    "import random\n",
    "from src.fun import split_data, batch_generator, get_data_as_df, df_to_src_tgt"
   ]
  },
  {
   "cell_type": "code",
   "execution_count": 8,
   "metadata": {},
   "outputs": [],
   "source": [
    "df = get_data_as_df(excel_fname='Euro.xls')"
   ]
  },
  {
   "cell_type": "code",
   "execution_count": 9,
   "metadata": {},
   "outputs": [],
   "source": [
    "sequence_length = len(df.index)"
   ]
  },
  {
   "cell_type": "code",
   "execution_count": 10,
   "metadata": {},
   "outputs": [],
   "source": [
    "config = {'sequence_length': sequence_length,\n",
    "          'forbidden_keys': ['date','up'],\n",
    "          'tgt_key': 'rule_closeup'}"
   ]
  },
  {
   "cell_type": "code",
   "execution_count": 11,
   "metadata": {},
   "outputs": [],
   "source": [
    "src_data_numpy, tgt_data_numpy, src_keys, tgt_keys, src_pos_dict = df_to_src_tgt(config=config, df=df)"
   ]
  },
  {
   "cell_type": "code",
   "execution_count": 13,
   "metadata": {},
   "outputs": [
    {
     "name": "stdout",
     "output_type": "stream",
     "text": [
      "src_data_numpy.shape: (1232, 22)\n",
      "tgt_data_numpy.shape: (1232, 1)\n"
     ]
    }
   ],
   "source": [
    "print(\"src_data_numpy.shape: {}\".format(src_data_numpy.shape))\n",
    "print(\"tgt_data_numpy.shape: {}\".format(tgt_data_numpy.shape))"
   ]
  }
 ],
 "metadata": {
  "kernelspec": {
   "display_name": "Python 3",
   "language": "python",
   "name": "python3"
  },
  "language_info": {
   "codemirror_mode": {
    "name": "ipython",
    "version": 3
   },
   "file_extension": ".py",
   "mimetype": "text/x-python",
   "name": "python",
   "nbconvert_exporter": "python",
   "pygments_lexer": "ipython3",
   "version": "3.8.2"
  }
 },
 "nbformat": 4,
 "nbformat_minor": 4
}
