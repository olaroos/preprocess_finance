{
 "cells": [
  {
   "cell_type": "code",
   "execution_count": 191,
   "metadata": {},
   "outputs": [],
   "source": [
    "import pandas as pd\n",
    "import os \n",
    "import numpy as np"
   ]
  },
  {
   "cell_type": "code",
   "execution_count": 193,
   "metadata": {},
   "outputs": [],
   "source": [
    "def column_name_converter(string):\n",
    "    return string.lower().replace(\"\\n\", \"_\").replace(\" \", \"_\")"
   ]
  },
  {
   "cell_type": "code",
   "execution_count": 194,
   "metadata": {},
   "outputs": [],
   "source": [
    "def change_column_names(df):\n",
    "    column_name0 = list(df.columns)\n",
    "    column_name1 =[column_name_converter(column) for column in column_name0]\n",
    "    column_name2 = list(df.iloc[0])\n",
    "    assert len(column_name1) == len(column_name2)\n",
    "    \n",
    "    prefix = ''\n",
    "    for i, name in enumerate(column_name2):\n",
    "        if isinstance(name, str):\n",
    "            if prefix != column_name1[i] and 'unnamed:' not in column_name1[i]:\n",
    "                prefix = column_name1[i]\n",
    "            new_name = prefix + \"_\" + column_name_converter(name)\n",
    "            column_name2[i] = new_name\n",
    "        else:\n",
    "            column_name2[i] = None\n",
    "\n",
    "    column_name3 = []\n",
    "    for i, name in enumerate(column_name2):\n",
    "        if name is not None:\n",
    "            column_name3.append(name)\n",
    "        else:\n",
    "            column_name3.append(column_name1[i])            \n",
    "    \n",
    "    df = df.rename(columns={column_name0[i]: column_names[i] for i in range(len(column_names))})\n",
    "    df = df.drop(0)\n",
    "    df = df.sort_values(by='date').reset_index()\n",
    "    del df['index']\n",
    "    return df"
   ]
  },
  {
   "cell_type": "code",
   "execution_count": 197,
   "metadata": {},
   "outputs": [],
   "source": [
    "def rule_closeup(df):\n",
    "    \"\"\"\n",
    "        returns a DataFrame column that is true (1) if the current dates \n",
    "        close_price is higher than the close_price of the previous date\n",
    "    \"\"\"\n",
    "    assert 'close_price' in list(df.columns)\n",
    "    assert 'date' in list(df.columns)\n",
    "    \n",
    "    closeup = [None]\n",
    "    for i in range(1, len(df.index)):\n",
    "        previous_close_price = df.iloc[i-1]['close_price']\n",
    "        current_close_price = df.iloc[i]['close_price']        \n",
    "        closeup.append(current_close_price > previous_close_price)\n",
    "    assert len(closeup) == len(df.index)\n",
    "    return closeup\n",
    "        "
   ]
  },
  {
   "cell_type": "code",
   "execution_count": 217,
   "metadata": {},
   "outputs": [],
   "source": [
    "df = pd.read_excel('res/Euro.xls')\n",
    "df = change_column_names(df)\n",
    "closeup = rule_closeup(df)\n",
    "closeup_df = pd.DataFrame(data=closeup, columns=['rule_closeup'])\n",
    "df = pd.concat([df, closeup_df], axis=1)"
   ]
  }
 ],
 "metadata": {
  "kernelspec": {
   "display_name": "Python 3",
   "language": "python",
   "name": "python3"
  },
  "language_info": {
   "codemirror_mode": {
    "name": "ipython",
    "version": 3
   },
   "file_extension": ".py",
   "mimetype": "text/x-python",
   "name": "python",
   "nbconvert_exporter": "python",
   "pygments_lexer": "ipython3",
   "version": "3.8.2"
  }
 },
 "nbformat": 4,
 "nbformat_minor": 4
}
