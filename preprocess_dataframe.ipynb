{
 "cells": [
  {
   "cell_type": "code",
   "execution_count": 130,
   "metadata": {},
   "outputs": [],
   "source": [
    "import pandas as pd\n",
    "import os \n",
    "import numpy as np"
   ]
  },
  {
   "cell_type": "code",
   "execution_count": 131,
   "metadata": {},
   "outputs": [],
   "source": [
    "def column_name_converter(string):\n",
    "    return string.lower().replace(\"\\n\", \"_\").replace(\" \", \"_\")"
   ]
  },
  {
   "cell_type": "code",
   "execution_count": 132,
   "metadata": {},
   "outputs": [],
   "source": [
    "def change_column_names(df):\n",
    "    column_name0 = list(df.columns)\n",
    "    column_name1 =[column_name_converter(column) for column in column_name0]\n",
    "    column_name2 = list(df.iloc[0])\n",
    "    assert len(column_name1) == len(column_name2)\n",
    "    \n",
    "    prefix = ''\n",
    "    for i, name in enumerate(column_name2):\n",
    "        if isinstance(name, str):\n",
    "            if prefix != column_name1[i] and 'unnamed:' not in column_name1[i]:\n",
    "                prefix = column_name1[i]\n",
    "            new_name = prefix + \"_\" + column_name_converter(name)\n",
    "            column_name2[i] = new_name\n",
    "        else:\n",
    "            column_name2[i] = None\n",
    "\n",
    "    column_name3 = []\n",
    "    for i, name in enumerate(column_name2):\n",
    "        if name is not None:\n",
    "            column_name3.append(name)\n",
    "        else:\n",
    "            column_name3.append(column_name1[i])            \n",
    "    \n",
    "    df = df.rename(columns={column_name0[i]: column_name1[i] for i in range(len(column_name1))})\n",
    "    df = df.drop(0)\n",
    "    df = df.sort_values(by='date').reset_index()\n",
    "    del df['index']\n",
    "    return df\n",
    "\n",
    "def handle_neural_index(df):\n",
    "    key = 'neural_index'\n",
    "    if key in list(df.keys()):\n",
    "        for i in df.index:\n",
    "            df.loc[i, key] = 0.0 if df.loc[i, key] == 'down' else 1.0\n",
    "    return df\n",
    "\n",
    "def rule_closeup(df):\n",
    "    \"\"\"\n",
    "        returns a DataFrame column that is true (1) if the current dates \n",
    "        close_price is higher than the close_price of the previous date\n",
    "    \"\"\"\n",
    "    assert 'close_price' in list(df.columns)\n",
    "    assert 'date' in list(df.columns)\n",
    "    \n",
    "    closeup = [None]\n",
    "    for i in range(1, len(df.index)):\n",
    "        previous_close_price = df.iloc[i-1]['close_price']\n",
    "        current_close_price = df.iloc[i]['close_price']        \n",
    "        closeup.append(int(current_close_price > previous_close_price))\n",
    "    assert len(closeup) == len(df.index)\n",
    "    return closeup\n",
    "\n",
    "def df_to_src_tgt(config=None, df=None):\n",
    "    src_keys = list(df.keys())\n",
    "    \n",
    "    tgt_keys = [config['tgt_key']]\n",
    "    for key in tgt_keys + config['forbidden_keys']:\n",
    "        if key in src_keys:\n",
    "            src_keys.remove(key)\n",
    "    src_pos_dict = {key: i for i, key in enumerate(src_keys)}\n",
    "    src_data = df[src_keys].to_numpy()\n",
    "    tgt_data = df[tgt_keys].to_numpy()\n",
    "    return src_data, tgt_data, src_keys, tgt_keys, src_pos_dict"
   ]
  },
  {
   "cell_type": "code",
   "execution_count": 138,
   "metadata": {},
   "outputs": [],
   "source": [
    "df = pd.read_excel('res/Euro.xls')\n",
    "df = change_column_names(df)\n",
    "df = handle_neural_index(df)\n",
    "df = pd.concat([df, pd.DataFrame(data=rule_closeup(df), columns=['rule_closeup'])], axis=1)"
   ]
  },
  {
   "cell_type": "code",
   "execution_count": 140,
   "metadata": {},
   "outputs": [],
   "source": [
    "config = {'sequence_length': 10,\n",
    "          'tgt_key': 'rule_closeup',\n",
    "          'forbidden_keys': ['date', \n",
    "                             'up']}"
   ]
  },
  {
   "cell_type": "code",
   "execution_count": 141,
   "metadata": {},
   "outputs": [],
   "source": [
    "training_df = df.iloc[:int(n_columns*0.9)]\n",
    "valid_df = df.iloc[int(n_columns*0.9):]"
   ]
  },
  {
   "cell_type": "code",
   "execution_count": 281,
   "metadata": {},
   "outputs": [],
   "source": [
    "src_data, tgt_data, src_keys, tgt_keys, src_pos_dict = df_to_src_tgt(config=config, df=training_df)"
   ]
  },
  {
   "cell_type": "code",
   "execution_count": 288,
   "metadata": {},
   "outputs": [],
   "source": [
    "def create_input(config=None, src_data=None, src_keys=None, tgt_data=None, src_pos_dict=None):    \n",
    "    assert src_data.shape[0] == tgt_data.shape[0]\n",
    "    \n",
    "    n_datapoints = src_data.shape[0]\n",
    "    sequence_length = config['sequence_length']\n",
    "    data = []\n",
    "    close_price_idx = src_pos_dict['close_price']\n",
    "    for i in range(sequence_length, n_datapoints, sequence_length):\n",
    "        src = src_data[i-sequence_length:i]\n",
    "        tgt = tgt_data[i]\n",
    "        assert bool(tgt[0]) == (src[-1,close_price_idx] < src_data[i,close_price_idx])\n",
    "        data.append((src, tgt))\n",
    "    return data\n",
    "    "
   ]
  },
  {
   "cell_type": "code",
   "execution_count": 289,
   "metadata": {},
   "outputs": [],
   "source": [
    "data = create_input(config=config, src_data=src_data, tgt_data=tgt_data, src_pos_dict=src_pos_dict)"
   ]
  }
 ],
 "metadata": {
  "kernelspec": {
   "display_name": "Python 3",
   "language": "python",
   "name": "python3"
  },
  "language_info": {
   "codemirror_mode": {
    "name": "ipython",
    "version": 3
   },
   "file_extension": ".py",
   "mimetype": "text/x-python",
   "name": "python",
   "nbconvert_exporter": "python",
   "pygments_lexer": "ipython3",
   "version": "3.7.6"
  }
 },
 "nbformat": 4,
 "nbformat_minor": 4
}
